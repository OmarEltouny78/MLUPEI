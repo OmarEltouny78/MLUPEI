{
 "cells": [
  {
   "cell_type": "code",
   "execution_count": 1,
   "metadata": {
    "_cell_guid": "b1076dfc-b9ad-4769-8c92-a6c4dae69d19",
    "_uuid": "8f2839f25d086af736a60e9eeb907d3b93b6e0e5",
    "execution": {
     "iopub.execute_input": "2020-10-12T18:23:17.338114Z",
     "iopub.status.busy": "2020-10-12T18:23:17.337306Z",
     "iopub.status.idle": "2020-10-12T18:23:18.644558Z",
     "shell.execute_reply": "2020-10-12T18:23:18.643711Z"
    },
    "papermill": {
     "duration": 1.323539,
     "end_time": "2020-10-12T18:23:18.644694",
     "exception": false,
     "start_time": "2020-10-12T18:23:17.321155",
     "status": "completed"
    },
    "tags": []
   },
   "outputs": [],
   "source": [
    "import numpy as np # linear algebra\n",
    "import pandas as pd # data processing, CSV file I/O (e.g. pd.read_csv)\n",
    "import sklearn\n",
    "import matplotlib.pyplot as plt \n",
    "from sklearn.datasets import load_boston"
   ]
  },
  {
   "cell_type": "code",
   "execution_count": 2,
   "metadata": {
    "_cell_guid": "79c7e3d0-c299-4dcb-8224-4455121ee9b0",
    "_uuid": "d629ff2d2480ee46fbb7e2d37f6b5fab8052498a",
    "execution": {
     "iopub.execute_input": "2020-10-12T18:23:18.673388Z",
     "iopub.status.busy": "2020-10-12T18:23:18.672519Z",
     "iopub.status.idle": "2020-10-12T18:23:18.699649Z",
     "shell.execute_reply": "2020-10-12T18:23:18.698897Z"
    },
    "papermill": {
     "duration": 0.045252,
     "end_time": "2020-10-12T18:23:18.699776",
     "exception": false,
     "start_time": "2020-10-12T18:23:18.654524",
     "status": "completed"
    },
    "tags": []
   },
   "outputs": [
    {
     "name": "stdout",
     "output_type": "stream",
     "text": [
      ".. _boston_dataset:\n",
      "\n",
      "Boston house prices dataset\n",
      "---------------------------\n",
      "\n",
      "**Data Set Characteristics:**  \n",
      "\n",
      "    :Number of Instances: 506 \n",
      "\n",
      "    :Number of Attributes: 13 numeric/categorical predictive. Median Value (attribute 14) is usually the target.\n",
      "\n",
      "    :Attribute Information (in order):\n",
      "        - CRIM     per capita crime rate by town\n",
      "        - ZN       proportion of residential land zoned for lots over 25,000 sq.ft.\n",
      "        - INDUS    proportion of non-retail business acres per town\n",
      "        - CHAS     Charles River dummy variable (= 1 if tract bounds river; 0 otherwise)\n",
      "        - NOX      nitric oxides concentration (parts per 10 million)\n",
      "        - RM       average number of rooms per dwelling\n",
      "        - AGE      proportion of owner-occupied units built prior to 1940\n",
      "        - DIS      weighted distances to five Boston employment centres\n",
      "        - RAD      index of accessibility to radial highways\n",
      "        - TAX      full-value property-tax rate per $10,000\n",
      "        - PTRATIO  pupil-teacher ratio by town\n",
      "        - B        1000(Bk - 0.63)^2 where Bk is the proportion of blacks by town\n",
      "        - LSTAT    % lower status of the population\n",
      "        - MEDV     Median value of owner-occupied homes in $1000's\n",
      "\n",
      "    :Missing Attribute Values: None\n",
      "\n",
      "    :Creator: Harrison, D. and Rubinfeld, D.L.\n",
      "\n",
      "This is a copy of UCI ML housing dataset.\n",
      "https://archive.ics.uci.edu/ml/machine-learning-databases/housing/\n",
      "\n",
      "\n",
      "This dataset was taken from the StatLib library which is maintained at Carnegie Mellon University.\n",
      "\n",
      "The Boston house-price data of Harrison, D. and Rubinfeld, D.L. 'Hedonic\n",
      "prices and the demand for clean air', J. Environ. Economics & Management,\n",
      "vol.5, 81-102, 1978.   Used in Belsley, Kuh & Welsch, 'Regression diagnostics\n",
      "...', Wiley, 1980.   N.B. Various transformations are used in the table on\n",
      "pages 244-261 of the latter.\n",
      "\n",
      "The Boston house-price data has been used in many machine learning papers that address regression\n",
      "problems.   \n",
      "     \n",
      ".. topic:: References\n",
      "\n",
      "   - Belsley, Kuh & Welsch, 'Regression diagnostics: Identifying Influential Data and Sources of Collinearity', Wiley, 1980. 244-261.\n",
      "   - Quinlan,R. (1993). Combining Instance-Based and Model-Based Learning. In Proceedings on the Tenth International Conference of Machine Learning, 236-243, University of Massachusetts, Amherst. Morgan Kaufmann.\n",
      "\n"
     ]
    }
   ],
   "source": [
    "boston = load_boston()\n",
    "X=boston.data\n",
    "y=boston.target\n",
    "x_mean=np.mean(X)\n",
    "y_mean=np.mean(y)\n",
    "n=len(X)\n",
    "numer=0\n",
    "denom=0\n",
    "for i in range(n):\n",
    "    numer+=(X[i]-x_mean)*(y[i]-y_mean)\n",
    "    denom+=(X[i]-x_mean)**2\n",
    "b1=numer/denom\n",
    "b0=y_mean-(b1*x_mean)\n",
    "print(boston.DESCR)"
   ]
  },
  {
   "cell_type": "code",
   "execution_count": 3,
   "metadata": {
    "execution": {
     "iopub.execute_input": "2020-10-12T18:23:18.726788Z",
     "iopub.status.busy": "2020-10-12T18:23:18.725950Z",
     "iopub.status.idle": "2020-10-12T18:23:18.798030Z",
     "shell.execute_reply": "2020-10-12T18:23:18.797312Z"
    },
    "papermill": {
     "duration": 0.08817,
     "end_time": "2020-10-12T18:23:18.798163",
     "exception": false,
     "start_time": "2020-10-12T18:23:18.709993",
     "status": "completed"
    },
    "tags": []
   },
   "outputs": [],
   "source": [
    "from sklearn.model_selection import train_test_split\n",
    "X_train,X_test,y_train,y_test=train_test_split(X,y,test_size=0.2,random_state=1)\n"
   ]
  },
  {
   "cell_type": "code",
   "execution_count": 4,
   "metadata": {
    "execution": {
     "iopub.execute_input": "2020-10-12T18:23:18.829341Z",
     "iopub.status.busy": "2020-10-12T18:23:18.828468Z",
     "iopub.status.idle": "2020-10-12T18:24:41.982971Z",
     "shell.execute_reply": "2020-10-12T18:24:41.982174Z"
    },
    "papermill": {
     "duration": 83.17492,
     "end_time": "2020-10-12T18:24:41.983126",
     "exception": false,
     "start_time": "2020-10-12T18:23:18.808206",
     "status": "completed"
    },
    "tags": []
   },
   "outputs": [],
   "source": [
    "from sklearn.preprocessing import PolynomialFeatures\n",
    "from sklearn.linear_model import LinearRegression\n",
    "from sklearn.metrics import mean_squared_error, r2_score\n",
    "for i in range(1,11):\n",
    "    poly_features=PolynomialFeatures(degree=i)\n",
    "    X_train_poly = poly_features.fit_transform(X_train)\n",
    "    poly_model = LinearRegression()\n",
    "    poly_model.fit(X_train_poly, y_train)\n",
    "    y_train_predicted = poly_model.predict(X_train_poly)\n",
    "    y_test_predict = poly_model.predict(poly_features.fit_transform(X_test))\n",
    "    rmse_train = np.sqrt(mean_squared_error(y_train, y_train_predicted))\n",
    "    r2_train = r2_score(y_train, y_train_predicted)\n",
    "    rmse_test = np.sqrt(mean_squared_error(y_test, y_test_predict))\n",
    "    r2_test = r2_score(y_test, y_test_predict)\n"
   ]
  },
  {
   "cell_type": "code",
   "execution_count": 5,
   "metadata": {
    "execution": {
     "iopub.execute_input": "2020-10-12T18:24:42.016592Z",
     "iopub.status.busy": "2020-10-12T18:24:42.015502Z",
     "iopub.status.idle": "2020-10-12T18:24:42.443729Z",
     "shell.execute_reply": "2020-10-12T18:24:42.443080Z"
    },
    "papermill": {
     "duration": 0.448675,
     "end_time": "2020-10-12T18:24:42.443890",
     "exception": false,
     "start_time": "2020-10-12T18:24:41.995215",
     "status": "completed"
    },
    "tags": []
   },
   "outputs": [],
   "source": [
    "import numpy as np\n",
    "import pandas as pd\n",
    "prediction = pd.DataFrame(y_test_predict, columns=['predictions']).to_csv('predictionPolyFalse.csv')"
   ]
  },
  {
   "cell_type": "code",
   "execution_count": 6,
   "metadata": {
    "execution": {
     "iopub.execute_input": "2020-10-12T18:24:42.485455Z",
     "iopub.status.busy": "2020-10-12T18:24:42.484481Z",
     "iopub.status.idle": "2020-10-12T18:24:43.412053Z",
     "shell.execute_reply": "2020-10-12T18:24:43.410563Z"
    },
    "papermill": {
     "duration": 0.95799,
     "end_time": "2020-10-12T18:24:43.412223",
     "exception": false,
     "start_time": "2020-10-12T18:24:42.454233",
     "status": "completed"
    },
    "tags": []
   },
   "outputs": [],
   "source": [
    "from sklearn.preprocessing import PolynomialFeatures\n",
    "from sklearn.linear_model import LinearRegression\n",
    "from sklearn.metrics import mean_squared_error, r2_score\n",
    "for i in range(1,11):\n",
    "    poly_features=PolynomialFeatures(degree=i,interaction_only=True)\n",
    "    X_train_poly = poly_features.fit_transform(X_train)\n",
    "    poly_model = LinearRegression()\n",
    "    poly_model.fit(X_train_poly, y_train)\n",
    "    y_train_predicted = poly_model.predict(X_train_poly)\n",
    "    y_test_predict = poly_model.predict(poly_features.fit_transform(X_test))\n",
    "    rmse_train = np.sqrt(mean_squared_error(y_train, y_train_predicted))\n",
    "    r2_train = r2_score(y_train, y_train_predicted)\n",
    "    rmse_test = np.sqrt(mean_squared_error(y_test, y_test_predict))\n",
    "    r2_test = r2_score(y_test, y_test_predict)\n",
    "    "
   ]
  },
  {
   "cell_type": "code",
   "execution_count": 7,
   "metadata": {
    "execution": {
     "iopub.execute_input": "2020-10-12T18:24:43.446600Z",
     "iopub.status.busy": "2020-10-12T18:24:43.445604Z",
     "iopub.status.idle": "2020-10-12T18:24:43.449157Z",
     "shell.execute_reply": "2020-10-12T18:24:43.448519Z"
    },
    "papermill": {
     "duration": 0.024711,
     "end_time": "2020-10-12T18:24:43.449334",
     "exception": false,
     "start_time": "2020-10-12T18:24:43.424623",
     "status": "completed"
    },
    "tags": []
   },
   "outputs": [],
   "source": [
    "import numpy as np\n",
    "import pandas as pd\n",
    "prediction = pd.DataFrame(y_test_predict, columns=['predictions']).to_csv('predictionPolyTrue.csv')"
   ]
  },
  {
   "cell_type": "code",
   "execution_count": null,
   "metadata": {
    "papermill": {
     "duration": 0.010283,
     "end_time": "2020-10-12T18:24:43.470574",
     "exception": false,
     "start_time": "2020-10-12T18:24:43.460291",
     "status": "completed"
    },
    "tags": []
   },
   "outputs": [],
   "source": []
  },
  {
   "cell_type": "code",
   "execution_count": null,
   "metadata": {
    "papermill": {
     "duration": 0.010139,
     "end_time": "2020-10-12T18:24:43.491333",
     "exception": false,
     "start_time": "2020-10-12T18:24:43.481194",
     "status": "completed"
    },
    "tags": []
   },
   "outputs": [],
   "source": []
  },
  {
   "cell_type": "code",
   "execution_count": null,
   "metadata": {
    "papermill": {
     "duration": 0.010104,
     "end_time": "2020-10-12T18:24:43.512008",
     "exception": false,
     "start_time": "2020-10-12T18:24:43.501904",
     "status": "completed"
    },
    "tags": []
   },
   "outputs": [],
   "source": []
  }
 ],
 "metadata": {
  "kernelspec": {
   "display_name": "Python 3",
   "language": "python",
   "name": "python3"
  },
  "language_info": {
   "codemirror_mode": {
    "name": "ipython",
    "version": 3
   },
   "file_extension": ".py",
   "mimetype": "text/x-python",
   "name": "python",
   "nbconvert_exporter": "python",
   "pygments_lexer": "ipython3",
   "version": "3.7.6"
  },
  "papermill": {
   "duration": 91.576821,
   "end_time": "2020-10-12T18:24:43.632351",
   "environment_variables": {},
   "exception": null,
   "input_path": "__notebook__.ipynb",
   "output_path": "__notebook__.ipynb",
   "parameters": {},
   "start_time": "2020-10-12T18:23:12.055530",
   "version": "2.1.0"
  }
 },
 "nbformat": 4,
 "nbformat_minor": 4
}
